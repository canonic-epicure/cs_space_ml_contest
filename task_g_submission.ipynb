{
 "cells": [
  {
   "cell_type": "code",
   "id": "5b3835c7",
   "metadata": {
    "ExecuteTime": {
     "end_time": "2025-08-01T16:16:02.746500Z",
     "start_time": "2025-08-01T16:16:02.742612Z"
    }
   },
   "source": [
    "import pandas as pd\n",
    "import numpy as np\n",
    "import catboost as cb"
   ],
   "outputs": [],
   "execution_count": 41
  },
  {
   "cell_type": "code",
   "id": "1809c73487a5386d",
   "metadata": {
    "ExecuteTime": {
     "end_time": "2025-08-01T16:16:02.764263Z",
     "start_time": "2025-08-01T16:16:02.754507Z"
    }
   },
   "source": [
    "def get_next_month(date: str) -> str:\n",
    "    return str(pd.Period(date, freq=\"M\") + 1)\n",
    "\n"
   ],
   "outputs": [],
   "execution_count": 42
  },
  {
   "cell_type": "markdown",
   "id": "efe642aa",
   "metadata": {},
   "source": [
    "## Cleanup the data"
   ]
  },
  {
   "cell_type": "code",
   "id": "22e634b9",
   "metadata": {
    "ExecuteTime": {
     "end_time": "2025-08-01T16:16:03.615236Z",
     "start_time": "2025-08-01T16:16:02.802952Z"
    }
   },
   "source": [
    "df = pd.read_csv('training.csv')\n",
    "\n",
    "sub = pd.read_csv('sub1.csv')\n",
    "\n",
    "sub = sub.set_index('id', drop=False)\n",
    "\n",
    "df = df.drop_duplicates(subset='id', keep='first')\n",
    "df = df[ ['id'] ]\n",
    "\n",
    "# df[ 'revenue_next_month' ] = 0.0\n",
    "# df[ 'is_active' ] = 0\n"
   ],
   "outputs": [],
   "execution_count": 43
  },
  {
   "cell_type": "code",
   "id": "90c2cb8f",
   "metadata": {
    "ExecuteTime": {
     "end_time": "2025-08-01T16:16:03.637952Z",
     "start_time": "2025-08-01T16:16:03.624521Z"
    }
   },
   "source": [
    "df"
   ],
   "outputs": [
    {
     "data": {
      "text/plain": [
       "            id\n",
       "0            1\n",
       "2            2\n",
       "3            3\n",
       "5            4\n",
       "7            5\n",
       "...        ...\n",
       "224123  133670\n",
       "224125  133671\n",
       "224126  133672\n",
       "224128  133673\n",
       "224129  133674\n",
       "\n",
       "[133674 rows x 1 columns]"
      ],
      "text/html": [
       "<div>\n",
       "<style scoped>\n",
       "    .dataframe tbody tr th:only-of-type {\n",
       "        vertical-align: middle;\n",
       "    }\n",
       "\n",
       "    .dataframe tbody tr th {\n",
       "        vertical-align: top;\n",
       "    }\n",
       "\n",
       "    .dataframe thead th {\n",
       "        text-align: right;\n",
       "    }\n",
       "</style>\n",
       "<table border=\"1\" class=\"dataframe\">\n",
       "  <thead>\n",
       "    <tr style=\"text-align: right;\">\n",
       "      <th></th>\n",
       "      <th>id</th>\n",
       "    </tr>\n",
       "  </thead>\n",
       "  <tbody>\n",
       "    <tr>\n",
       "      <th>0</th>\n",
       "      <td>1</td>\n",
       "    </tr>\n",
       "    <tr>\n",
       "      <th>2</th>\n",
       "      <td>2</td>\n",
       "    </tr>\n",
       "    <tr>\n",
       "      <th>3</th>\n",
       "      <td>3</td>\n",
       "    </tr>\n",
       "    <tr>\n",
       "      <th>5</th>\n",
       "      <td>4</td>\n",
       "    </tr>\n",
       "    <tr>\n",
       "      <th>7</th>\n",
       "      <td>5</td>\n",
       "    </tr>\n",
       "    <tr>\n",
       "      <th>...</th>\n",
       "      <td>...</td>\n",
       "    </tr>\n",
       "    <tr>\n",
       "      <th>224123</th>\n",
       "      <td>133670</td>\n",
       "    </tr>\n",
       "    <tr>\n",
       "      <th>224125</th>\n",
       "      <td>133671</td>\n",
       "    </tr>\n",
       "    <tr>\n",
       "      <th>224126</th>\n",
       "      <td>133672</td>\n",
       "    </tr>\n",
       "    <tr>\n",
       "      <th>224128</th>\n",
       "      <td>133673</td>\n",
       "    </tr>\n",
       "    <tr>\n",
       "      <th>224129</th>\n",
       "      <td>133674</td>\n",
       "    </tr>\n",
       "  </tbody>\n",
       "</table>\n",
       "<p>133674 rows × 1 columns</p>\n",
       "</div>"
      ]
     },
     "execution_count": 44,
     "metadata": {},
     "output_type": "execute_result"
    }
   ],
   "execution_count": 44
  },
  {
   "metadata": {
    "ExecuteTime": {
     "end_time": "2025-08-01T16:16:33.047429Z",
     "start_time": "2025-08-01T16:16:03.712929Z"
    }
   },
   "cell_type": "code",
   "source": [
    "import math\n",
    "\n",
    "def process_is_active(row):\n",
    "    try:\n",
    "        sub_row = sub.loc[ (row['id']) ]\n",
    "\n",
    "        return int(sub_row[ 'is_active_next_month' ])\n",
    "    except:\n",
    "        return 0\n",
    "\n",
    "def process_revenue(row):\n",
    "    try:\n",
    "        sub_row = sub.loc[ (row['id']) ]\n",
    "\n",
    "        row[ 'is_active' ] = int(sub_row[ 'is_active_next_month' ])\n",
    "\n",
    "        if sub_row[ 'is_active_next_month' ]:\n",
    "            return max(0, sub_row['revenue_next_month']) + max(0, sub_row['ads_revenue_next_month'])\n",
    "        else:\n",
    "            return 0\n",
    "    except:\n",
    "        return 0.0\n",
    "\n",
    "df[ 'next_month_revenue'] = df.apply(process_revenue, axis=1)\n",
    "df[ 'is_active'] = df.apply(process_is_active, axis=1)\n"
   ],
   "id": "3ef5d2279b01251f",
   "outputs": [],
   "execution_count": 45
  },
  {
   "metadata": {
    "ExecuteTime": {
     "end_time": "2025-08-01T16:16:33.067898Z",
     "start_time": "2025-08-01T16:16:33.055829Z"
    }
   },
   "cell_type": "code",
   "source": "df",
   "id": "c7d777f5b1b04f0f",
   "outputs": [
    {
     "data": {
      "text/plain": [
       "            id  next_month_revenue  is_active\n",
       "0            1                 0.0          0\n",
       "2            2                 0.0          0\n",
       "3            3                 0.0          0\n",
       "5            4                 0.0          0\n",
       "7            5                 0.0          0\n",
       "...        ...                 ...        ...\n",
       "224123  133670                 0.0          0\n",
       "224125  133671                 0.0          0\n",
       "224126  133672                 0.0          0\n",
       "224128  133673                 0.0          0\n",
       "224129  133674                 0.0          0\n",
       "\n",
       "[133674 rows x 3 columns]"
      ],
      "text/html": [
       "<div>\n",
       "<style scoped>\n",
       "    .dataframe tbody tr th:only-of-type {\n",
       "        vertical-align: middle;\n",
       "    }\n",
       "\n",
       "    .dataframe tbody tr th {\n",
       "        vertical-align: top;\n",
       "    }\n",
       "\n",
       "    .dataframe thead th {\n",
       "        text-align: right;\n",
       "    }\n",
       "</style>\n",
       "<table border=\"1\" class=\"dataframe\">\n",
       "  <thead>\n",
       "    <tr style=\"text-align: right;\">\n",
       "      <th></th>\n",
       "      <th>id</th>\n",
       "      <th>next_month_revenue</th>\n",
       "      <th>is_active</th>\n",
       "    </tr>\n",
       "  </thead>\n",
       "  <tbody>\n",
       "    <tr>\n",
       "      <th>0</th>\n",
       "      <td>1</td>\n",
       "      <td>0.0</td>\n",
       "      <td>0</td>\n",
       "    </tr>\n",
       "    <tr>\n",
       "      <th>2</th>\n",
       "      <td>2</td>\n",
       "      <td>0.0</td>\n",
       "      <td>0</td>\n",
       "    </tr>\n",
       "    <tr>\n",
       "      <th>3</th>\n",
       "      <td>3</td>\n",
       "      <td>0.0</td>\n",
       "      <td>0</td>\n",
       "    </tr>\n",
       "    <tr>\n",
       "      <th>5</th>\n",
       "      <td>4</td>\n",
       "      <td>0.0</td>\n",
       "      <td>0</td>\n",
       "    </tr>\n",
       "    <tr>\n",
       "      <th>7</th>\n",
       "      <td>5</td>\n",
       "      <td>0.0</td>\n",
       "      <td>0</td>\n",
       "    </tr>\n",
       "    <tr>\n",
       "      <th>...</th>\n",
       "      <td>...</td>\n",
       "      <td>...</td>\n",
       "      <td>...</td>\n",
       "    </tr>\n",
       "    <tr>\n",
       "      <th>224123</th>\n",
       "      <td>133670</td>\n",
       "      <td>0.0</td>\n",
       "      <td>0</td>\n",
       "    </tr>\n",
       "    <tr>\n",
       "      <th>224125</th>\n",
       "      <td>133671</td>\n",
       "      <td>0.0</td>\n",
       "      <td>0</td>\n",
       "    </tr>\n",
       "    <tr>\n",
       "      <th>224126</th>\n",
       "      <td>133672</td>\n",
       "      <td>0.0</td>\n",
       "      <td>0</td>\n",
       "    </tr>\n",
       "    <tr>\n",
       "      <th>224128</th>\n",
       "      <td>133673</td>\n",
       "      <td>0.0</td>\n",
       "      <td>0</td>\n",
       "    </tr>\n",
       "    <tr>\n",
       "      <th>224129</th>\n",
       "      <td>133674</td>\n",
       "      <td>0.0</td>\n",
       "      <td>0</td>\n",
       "    </tr>\n",
       "  </tbody>\n",
       "</table>\n",
       "<p>133674 rows × 3 columns</p>\n",
       "</div>"
      ]
     },
     "execution_count": 46,
     "metadata": {},
     "output_type": "execute_result"
    }
   ],
   "execution_count": 46
  },
  {
   "metadata": {
    "ExecuteTime": {
     "end_time": "2025-08-01T16:16:33.407292Z",
     "start_time": "2025-08-01T16:16:33.113743Z"
    }
   },
   "cell_type": "code",
   "source": "df.to_csv('submission1.csv', index=False)",
   "id": "a29e926757a759d4",
   "outputs": [],
   "execution_count": 47
  }
 ],
 "metadata": {
  "kernelspec": {
   "display_name": "Python 3 (ipykernel)",
   "language": "python",
   "name": "python3"
  },
  "language_info": {
   "codemirror_mode": {
    "name": "ipython",
    "version": 3
   },
   "file_extension": ".py",
   "mimetype": "text/x-python",
   "name": "python",
   "nbconvert_exporter": "python",
   "pygments_lexer": "ipython3",
   "version": "3.12.3"
  }
 },
 "nbformat": 4,
 "nbformat_minor": 5
}

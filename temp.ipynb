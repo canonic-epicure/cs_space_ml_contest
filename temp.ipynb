{
 "cells": [
  {
   "cell_type": "code",
   "id": "5b3835c7",
   "metadata": {
    "ExecuteTime": {
     "end_time": "2025-08-12T13:34:39.367557Z",
     "start_time": "2025-08-12T13:34:39.137428Z"
    }
   },
   "source": [
    "import pandas as pd\n",
    "import numpy as np\n",
    "import catboost as cb"
   ],
   "outputs": [],
   "execution_count": 2
  },
  {
   "cell_type": "code",
   "id": "1809c73487a5386d",
   "metadata": {
    "ExecuteTime": {
     "end_time": "2025-08-12T13:34:39.373565Z",
     "start_time": "2025-08-12T13:34:39.371819Z"
    }
   },
   "source": [
    "import pandas as pd\n",
    "import numpy as np\n",
    "\n",
    "# Первый массив (источник)\n",
    "a1 = np.array([\n",
    "    [101, 5, 7],\n",
    "    [103, 2, 4],\n",
    "    [105, 9, 8]\n",
    "])\n",
    "\n",
    "# Второй массив (назначение, больше строк)\n",
    "a2 = np.array([\n",
    "    [101, 0, 0],\n",
    "    [102, 1, 1],\n",
    "    [103, 0, 0],\n",
    "    [104, 1, 1],\n",
    "    [105, 0, 0],\n",
    "    [106, 1, 1]\n",
    "])\n",
    "\n",
    "# Преобразуем в DataFrame\n",
    "df1 = pd.DataFrame(a1, columns=[\"ID\", \"val1\", \"val2\"])\n",
    "df2 = pd.DataFrame(a2, columns=[\"ID\", \"val1\", \"val2\"])"
   ],
   "outputs": [],
   "execution_count": 3
  },
  {
   "metadata": {
    "ExecuteTime": {
     "end_time": "2025-08-12T13:35:42.915627Z",
     "start_time": "2025-08-12T13:35:42.911142Z"
    }
   },
   "cell_type": "code",
   "source": [
    "df2 = df2.set_index(\"ID\")\n",
    "\n",
    "aa = df2.update(df1.set_index(\"ID\"))\n",
    "print(df2)\n",
    "\n",
    "aa"
   ],
   "id": "30118210d3be360c",
   "outputs": [
    {
     "name": "stdout",
     "output_type": "stream",
     "text": [
      "     val1  val2\n",
      "ID             \n",
      "101     5     7\n",
      "102     1     1\n",
      "103     2     4\n",
      "104     1     1\n",
      "105     9     8\n",
      "106     1     1\n"
     ]
    }
   ],
   "execution_count": 20
  }
 ],
 "metadata": {
  "kernelspec": {
   "display_name": "Python 3 (ipykernel)",
   "language": "python",
   "name": "python3"
  },
  "language_info": {
   "codemirror_mode": {
    "name": "ipython",
    "version": 3
   },
   "file_extension": ".py",
   "mimetype": "text/x-python",
   "name": "python",
   "nbconvert_exporter": "python",
   "pygments_lexer": "ipython3",
   "version": "3.12.3"
  }
 },
 "nbformat": 4,
 "nbformat_minor": 5
}

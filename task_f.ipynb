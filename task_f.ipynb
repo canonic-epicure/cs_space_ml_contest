{
 "cells": [
  {
   "cell_type": "code",
   "id": "5b3835c7",
   "metadata": {
    "ExecuteTime": {
     "end_time": "2025-08-01T18:02:58.867994Z",
     "start_time": "2025-08-01T18:02:58.858748Z"
    }
   },
   "source": [
    "import pandas as pd\n",
    "import numpy as np\n",
    "import catboost as cb\n",
    "from scipy import stats\n",
    "import inspect"
   ],
   "outputs": [],
   "execution_count": 62
  },
  {
   "cell_type": "code",
   "id": "1809c73487a5386d",
   "metadata": {
    "ExecuteTime": {
     "end_time": "2025-08-01T18:02:58.909601Z",
     "start_time": "2025-08-01T18:02:58.905294Z"
    }
   },
   "source": [
    "import random, math\n",
    "\n",
    "def solution(x: float) -> bool:\n",
    "    \"\"\"\n",
    "    Стратегия «случайный порог».\n",
    "    True  -> остаёмся с первым оффером;\n",
    "    False -> открываем второй.\n",
    "    Никаких глобальных переменных, каждый вызов независим.\n",
    "    \"\"\"\n",
    "    #   Сэмпл из стандартного распределения Коши:\n",
    "    #   T = tan(π(U-½)),  U ~ Uniform(0,1)\n",
    "    u = random.random()\n",
    "    t = math.tan(math.pi * (u - 0.5))        # Cauchy(0,1)\n",
    "    return x >= t\n"
   ],
   "outputs": [],
   "execution_count": 63
  },
  {
   "metadata": {
    "ExecuteTime": {
     "end_time": "2025-08-01T18:02:58.960204Z",
     "start_time": "2025-08-01T18:02:58.955045Z"
    }
   },
   "cell_type": "code",
   "source": [
    "import random, math\n",
    "\n",
    "def simulate_dist(strategy, sample_func, samples=100000):\n",
    "    wins=0\n",
    "    for _ in range(samples):\n",
    "        x1=sample_func()\n",
    "        x2=sample_func()\n",
    "        if strategy(x1):\n",
    "            chosen=x1\n",
    "            other=x2\n",
    "        else:\n",
    "            chosen=x2\n",
    "            other=x1\n",
    "        if chosen>=other:\n",
    "            wins+=1\n",
    "    return wins/samples\n",
    "\n"
   ],
   "id": "92fd87289637a215",
   "outputs": [],
   "execution_count": 64
  },
  {
   "metadata": {
    "ExecuteTime": {
     "end_time": "2025-08-01T18:02:59.012803Z",
     "start_time": "2025-08-01T18:02:59.008688Z"
    }
   },
   "cell_type": "code",
   "source": "",
   "id": "f3a4b3be96d8b8e7",
   "outputs": [],
   "execution_count": null
  },
  {
   "metadata": {
    "ExecuteTime": {
     "end_time": "2025-08-01T18:04:29.869310Z",
     "start_time": "2025-08-01T18:03:49.297021Z"
    }
   },
   "cell_type": "code",
   "source": [
    "members = vars(stats).items()\n",
    "\n",
    "continuous = [name for name, obj in members\n",
    "              if isinstance(obj, stats.rv_continuous)]\n",
    "discrete   = [name for name, obj in members\n",
    "              if isinstance(obj, stats.rv_discrete)]\n",
    "\n",
    "\n",
    "dist = getattr(stats.distributions, continuous[1])\n",
    "\n",
    "dist.rvs(1)\n",
    "\n",
    "# stats.distributions\n",
    "\n",
    "for name in continuous + discrete:\n",
    "    dist = getattr(stats, name)      # сам объект распределения\n",
    "\n",
    "    print(name, simulate_dist(solution, lambda: dist.rvs(1)))\n"
   ],
   "id": "c0e14c8b84b5d9c5",
   "outputs": [
    {
     "name": "stdout",
     "output_type": "stream",
     "text": [
      "ksone 0.54178\n",
      "kstwo 0.5154\n"
     ]
    },
    {
     "ename": "KeyboardInterrupt",
     "evalue": "",
     "output_type": "error",
     "traceback": [
      "\u001B[31m---------------------------------------------------------------------------\u001B[39m",
      "\u001B[31mKeyboardInterrupt\u001B[39m                         Traceback (most recent call last)",
      "\u001B[36mCell\u001B[39m\u001B[36m \u001B[39m\u001B[32mIn[67]\u001B[39m\u001B[32m, line 18\u001B[39m\n\u001B[32m     15\u001B[39m \u001B[38;5;28;01mfor\u001B[39;00m name \u001B[38;5;129;01min\u001B[39;00m continuous + discrete:\n\u001B[32m     16\u001B[39m     dist = \u001B[38;5;28mgetattr\u001B[39m(stats, name)      \u001B[38;5;66;03m# сам объект распределения\u001B[39;00m\n\u001B[32m---> \u001B[39m\u001B[32m18\u001B[39m     \u001B[38;5;28mprint\u001B[39m(name, \u001B[43msimulate_dist\u001B[49m\u001B[43m(\u001B[49m\u001B[43msolution\u001B[49m\u001B[43m,\u001B[49m\u001B[43m \u001B[49m\u001B[38;5;28;43;01mlambda\u001B[39;49;00m\u001B[43m:\u001B[49m\u001B[43m \u001B[49m\u001B[43mdist\u001B[49m\u001B[43m.\u001B[49m\u001B[43mrvs\u001B[49m\u001B[43m(\u001B[49m\u001B[32;43m1\u001B[39;49m\u001B[43m)\u001B[49m\u001B[43m)\u001B[49m)\n",
      "\u001B[36mCell\u001B[39m\u001B[36m \u001B[39m\u001B[32mIn[64]\u001B[39m\u001B[32m, line 7\u001B[39m, in \u001B[36msimulate_dist\u001B[39m\u001B[34m(strategy, sample_func, samples)\u001B[39m\n\u001B[32m      5\u001B[39m \u001B[38;5;28;01mfor\u001B[39;00m _ \u001B[38;5;129;01min\u001B[39;00m \u001B[38;5;28mrange\u001B[39m(samples):\n\u001B[32m      6\u001B[39m     x1=sample_func()\n\u001B[32m----> \u001B[39m\u001B[32m7\u001B[39m     x2=\u001B[43msample_func\u001B[49m\u001B[43m(\u001B[49m\u001B[43m)\u001B[49m\n\u001B[32m      8\u001B[39m     \u001B[38;5;28;01mif\u001B[39;00m strategy(x1):\n\u001B[32m      9\u001B[39m         chosen=x1\n",
      "\u001B[36mCell\u001B[39m\u001B[36m \u001B[39m\u001B[32mIn[67]\u001B[39m\u001B[32m, line 18\u001B[39m, in \u001B[36m<lambda>\u001B[39m\u001B[34m()\u001B[39m\n\u001B[32m     15\u001B[39m \u001B[38;5;28;01mfor\u001B[39;00m name \u001B[38;5;129;01min\u001B[39;00m continuous + discrete:\n\u001B[32m     16\u001B[39m     dist = \u001B[38;5;28mgetattr\u001B[39m(stats, name)      \u001B[38;5;66;03m# сам объект распределения\u001B[39;00m\n\u001B[32m---> \u001B[39m\u001B[32m18\u001B[39m     \u001B[38;5;28mprint\u001B[39m(name, simulate_dist(solution, \u001B[38;5;28;01mlambda\u001B[39;00m: \u001B[43mdist\u001B[49m\u001B[43m.\u001B[49m\u001B[43mrvs\u001B[49m\u001B[43m(\u001B[49m\u001B[32;43m1\u001B[39;49m\u001B[43m)\u001B[49m))\n",
      "\u001B[36mFile \u001B[39m\u001B[32m~/workspace/python/cs_space_ml_contest/.venv/lib/python3.12/site-packages/scipy/stats/_distn_infrastructure.py:1102\u001B[39m, in \u001B[36mrv_generic.rvs\u001B[39m\u001B[34m(self, *args, **kwds)\u001B[39m\n\u001B[32m   1100\u001B[39m args, loc, scale, size = \u001B[38;5;28mself\u001B[39m._parse_args_rvs(*args, **kwds)\n\u001B[32m   1101\u001B[39m cond = logical_and(\u001B[38;5;28mself\u001B[39m._argcheck(*args), (scale >= \u001B[32m0\u001B[39m))\n\u001B[32m-> \u001B[39m\u001B[32m1102\u001B[39m \u001B[38;5;28;01mif\u001B[39;00m \u001B[38;5;129;01mnot\u001B[39;00m \u001B[43mnp\u001B[49m\u001B[43m.\u001B[49m\u001B[43mall\u001B[49m\u001B[43m(\u001B[49m\u001B[43mcond\u001B[49m\u001B[43m)\u001B[49m:\n\u001B[32m   1103\u001B[39m     message = (\u001B[33m\"\u001B[39m\u001B[33mDomain error in arguments. The `scale` parameter must \u001B[39m\u001B[33m\"\u001B[39m\n\u001B[32m   1104\u001B[39m                \u001B[33m\"\u001B[39m\u001B[33mbe positive for all distributions, and many \u001B[39m\u001B[33m\"\u001B[39m\n\u001B[32m   1105\u001B[39m                \u001B[33m\"\u001B[39m\u001B[33mdistributions have restrictions on shape parameters. \u001B[39m\u001B[33m\"\u001B[39m\n\u001B[32m   1106\u001B[39m                \u001B[33mf\u001B[39m\u001B[33m\"\u001B[39m\u001B[33mPlease see the `scipy.stats.\u001B[39m\u001B[38;5;132;01m{\u001B[39;00m\u001B[38;5;28mself\u001B[39m.name\u001B[38;5;132;01m}\u001B[39;00m\u001B[33m` \u001B[39m\u001B[33m\"\u001B[39m\n\u001B[32m   1107\u001B[39m                \u001B[33m\"\u001B[39m\u001B[33mdocumentation for details.\u001B[39m\u001B[33m\"\u001B[39m)\n\u001B[32m   1108\u001B[39m     \u001B[38;5;28;01mraise\u001B[39;00m \u001B[38;5;167;01mValueError\u001B[39;00m(message)\n",
      "\u001B[36mFile \u001B[39m\u001B[32m~/workspace/python/cs_space_ml_contest/.venv/lib/python3.12/site-packages/numpy/_core/fromnumeric.py:2675\u001B[39m, in \u001B[36mall\u001B[39m\u001B[34m(a, axis, out, keepdims, where)\u001B[39m\n\u001B[32m   2589\u001B[39m \u001B[38;5;129m@array_function_dispatch\u001B[39m(_all_dispatcher)\n\u001B[32m   2590\u001B[39m \u001B[38;5;28;01mdef\u001B[39;00m\u001B[38;5;250m \u001B[39m\u001B[34mall\u001B[39m(a, axis=\u001B[38;5;28;01mNone\u001B[39;00m, out=\u001B[38;5;28;01mNone\u001B[39;00m, keepdims=np._NoValue, *, where=np._NoValue):\n\u001B[32m   2591\u001B[39m \u001B[38;5;250m    \u001B[39m\u001B[33;03m\"\"\"\u001B[39;00m\n\u001B[32m   2592\u001B[39m \u001B[33;03m    Test whether all array elements along a given axis evaluate to True.\u001B[39;00m\n\u001B[32m   2593\u001B[39m \n\u001B[32m   (...)\u001B[39m\u001B[32m   2673\u001B[39m \n\u001B[32m   2674\u001B[39m \u001B[33;03m    \"\"\"\u001B[39;00m\n\u001B[32m-> \u001B[39m\u001B[32m2675\u001B[39m     \u001B[38;5;28;01mreturn\u001B[39;00m \u001B[43m_wrapreduction_any_all\u001B[49m\u001B[43m(\u001B[49m\u001B[43ma\u001B[49m\u001B[43m,\u001B[49m\u001B[43m \u001B[49m\u001B[43mnp\u001B[49m\u001B[43m.\u001B[49m\u001B[43mlogical_and\u001B[49m\u001B[43m,\u001B[49m\u001B[43m \u001B[49m\u001B[33;43m'\u001B[39;49m\u001B[33;43mall\u001B[39;49m\u001B[33;43m'\u001B[39;49m\u001B[43m,\u001B[49m\u001B[43m \u001B[49m\u001B[43maxis\u001B[49m\u001B[43m,\u001B[49m\u001B[43m \u001B[49m\u001B[43mout\u001B[49m\u001B[43m,\u001B[49m\n\u001B[32m   2676\u001B[39m \u001B[43m                                  \u001B[49m\u001B[43mkeepdims\u001B[49m\u001B[43m=\u001B[49m\u001B[43mkeepdims\u001B[49m\u001B[43m,\u001B[49m\u001B[43m \u001B[49m\u001B[43mwhere\u001B[49m\u001B[43m=\u001B[49m\u001B[43mwhere\u001B[49m\u001B[43m)\u001B[49m\n",
      "\u001B[36mFile \u001B[39m\u001B[32m~/workspace/python/cs_space_ml_contest/.venv/lib/python3.12/site-packages/numpy/_core/fromnumeric.py:100\u001B[39m, in \u001B[36m_wrapreduction_any_all\u001B[39m\u001B[34m(obj, ufunc, method, axis, out, **kwargs)\u001B[39m\n\u001B[32m     98\u001B[39m         \u001B[38;5;28;01mpass\u001B[39;00m\n\u001B[32m     99\u001B[39m     \u001B[38;5;28;01melse\u001B[39;00m:\n\u001B[32m--> \u001B[39m\u001B[32m100\u001B[39m         \u001B[38;5;28;01mreturn\u001B[39;00m \u001B[43mreduction\u001B[49m\u001B[43m(\u001B[49m\u001B[43maxis\u001B[49m\u001B[43m=\u001B[49m\u001B[43maxis\u001B[49m\u001B[43m,\u001B[49m\u001B[43m \u001B[49m\u001B[43mout\u001B[49m\u001B[43m=\u001B[49m\u001B[43mout\u001B[49m\u001B[43m,\u001B[49m\u001B[43m \u001B[49m\u001B[43m*\u001B[49m\u001B[43m*\u001B[49m\u001B[43mpasskwargs\u001B[49m\u001B[43m)\u001B[49m\n\u001B[32m    102\u001B[39m \u001B[38;5;28;01mreturn\u001B[39;00m ufunc.reduce(obj, axis, \u001B[38;5;28mbool\u001B[39m, out, **passkwargs)\n",
      "\u001B[36mFile \u001B[39m\u001B[32m~/workspace/python/cs_space_ml_contest/.venv/lib/python3.12/site-packages/numpy/_core/_methods.py:66\u001B[39m, in \u001B[36m_all\u001B[39m\u001B[34m(a, axis, dtype, out, keepdims, where)\u001B[39m\n\u001B[32m     63\u001B[39m         \u001B[38;5;28;01mreturn\u001B[39;00m umr_any(a, axis, dtype, out, keepdims)\n\u001B[32m     64\u001B[39m     \u001B[38;5;28;01mreturn\u001B[39;00m umr_any(a, axis, dtype, out, keepdims, where=where)\n\u001B[32m---> \u001B[39m\u001B[32m66\u001B[39m \u001B[38;5;28;01mdef\u001B[39;00m\u001B[38;5;250m \u001B[39m\u001B[34m_all\u001B[39m(a, axis=\u001B[38;5;28;01mNone\u001B[39;00m, dtype=\u001B[38;5;28;01mNone\u001B[39;00m, out=\u001B[38;5;28;01mNone\u001B[39;00m, keepdims=\u001B[38;5;28;01mFalse\u001B[39;00m, *, where=\u001B[38;5;28;01mTrue\u001B[39;00m):\n\u001B[32m     67\u001B[39m     \u001B[38;5;66;03m# By default, return a boolean for any and all\u001B[39;00m\n\u001B[32m     68\u001B[39m     \u001B[38;5;28;01mif\u001B[39;00m dtype \u001B[38;5;129;01mis\u001B[39;00m \u001B[38;5;28;01mNone\u001B[39;00m:\n\u001B[32m     69\u001B[39m         dtype = bool_dt\n",
      "\u001B[31mKeyboardInterrupt\u001B[39m: "
     ]
    }
   ],
   "execution_count": 67
  }
 ],
 "metadata": {
  "kernelspec": {
   "display_name": "Python 3 (ipykernel)",
   "language": "python",
   "name": "python3"
  },
  "language_info": {
   "codemirror_mode": {
    "name": "ipython",
    "version": 3
   },
   "file_extension": ".py",
   "mimetype": "text/x-python",
   "name": "python",
   "nbconvert_exporter": "python",
   "pygments_lexer": "ipython3",
   "version": "3.12.3"
  }
 },
 "nbformat": 4,
 "nbformat_minor": 5
}

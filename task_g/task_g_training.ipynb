{
 "cells": [
  {
   "cell_type": "code",
   "id": "5b3835c7",
   "metadata": {},
   "source": [
    "import pandas as pd\n",
    "import numpy as np\n",
    "import catboost as cb\n",
    "from scipy.optimize import minimize"
   ],
   "outputs": [],
   "execution_count": null
  },
  {
   "cell_type": "markdown",
   "id": "efe642aa",
   "metadata": {},
   "source": "## Training"
  },
  {
   "cell_type": "code",
   "id": "22e634b9",
   "metadata": {},
   "source": "df = pd.read_csv('training.csv')",
   "outputs": [],
   "execution_count": null
  },
  {
   "cell_type": "code",
   "id": "90c2cb8f",
   "metadata": {},
   "source": [
    "df"
   ],
   "outputs": [],
   "execution_count": null
  },
  {
   "metadata": {},
   "cell_type": "code",
   "source": [
    "def fit_blend_weights(P, y, lam=1e-4, w0=None):\n",
    "    \"\"\"\n",
    "    P: (n, M) OOF-предсказания, y: (n,)\n",
    "    Возвращает w: (M,) на симплексе (w>=0, sum w = 1).\n",
    "    \"\"\"\n",
    "    n, M = P.shape\n",
    "    y = y.reshape(-1)\n",
    "\n",
    "    # Целевая функция\n",
    "    def obj(w):\n",
    "        r = y - P.dot(w)                 # остатки (n,)\n",
    "        return (r @ r) / n + lam * (w @ w)\n",
    "\n",
    "    # Градиент (ускоряет и стабилизирует оптимизацию)\n",
    "    def grad(w):\n",
    "        r = y - P.dot(w)                 # (n,)\n",
    "        return -(2.0/n) * P.T.dot(r) + 2.0*lam*w  # (M,)\n",
    "\n",
    "    # Ограничения: сумма весов = 1\n",
    "    cons = ({'type': 'eq', 'fun': lambda w: np.sum(w) - 1.0,\n",
    "                      'jac': lambda w: np.ones_like(w)})\n",
    "\n",
    "    # Границы: w_m >= 0\n",
    "    bounds = [(0.0, 1.0)] * P.shape[1]\n",
    "\n",
    "    # Старт: равные веса или слегка «притянутые» к лучшим столбцам\n",
    "    if w0 is None:\n",
    "        w0 = np.full(P.shape[1], 1.0 / P.shape[1])\n",
    "\n",
    "    res = minimize(obj, w0, method='SLSQP', jac=grad,\n",
    "                   bounds=bounds, constraints=cons,\n",
    "                   options={'maxiter': 1000, 'ftol': 1e-12})\n",
    "    if not res.success:\n",
    "        # На практике SLSQP обычно сходится; если нет — вернём нормализованный срез\n",
    "        w = np.clip(res.x, 0, None)\n",
    "        s = w.sum()\n",
    "        return w / s if s > 0 else np.full(P.shape[1], 1.0/P.shape[1])\n",
    "    return res.x"
   ],
   "id": "585fd24a98bd1534",
   "outputs": [],
   "execution_count": null
  },
  {
   "metadata": {},
   "cell_type": "markdown",
   "source": "### Training `ads_revenue_next_month` model family",
   "id": "fc1c0275cfe84ea"
  },
  {
   "cell_type": "code",
   "id": "9d0fb1ed62175d79",
   "metadata": {},
   "source": [
    "import random\n",
    "\n",
    "from sklearn.model_selection import train_test_split\n",
    "from sklearn.model_selection import KFold\n",
    "\n",
    "target = \"log_ads_revenue_next_month\"\n",
    "\n",
    "X = df.drop(columns=[\n",
    "    \"id\", \"current_month\", \"is_active_next_month\", \"ads_revenue_next_month\", \"revenue_next_month\", \"log_ads_revenue_next_month\", \"log_revenue_next_month\"\n",
    "])\n",
    "y = df[target]\n",
    "\n",
    "features_names = X.columns.tolist()\n",
    "cat_features_names = ['country', 'traffic_type', 'platform']\n",
    "\n",
    "model_params = [\n",
    "    dict(\n",
    "        iterations=2000,\n",
    "        learning_rate=0.0075,\n",
    "        loss_function='RMSE',\n",
    "        depth=6,\n",
    "        subsample=1,\n",
    "        l2_leaf_reg=1,\n",
    "        rsm = 0.6,\n",
    "        feature_names=features_names,\n",
    "        cat_features=cat_features_names,\n",
    "    ),\n",
    "    dict(\n",
    "        iterations=2000,\n",
    "        learning_rate=0.01,\n",
    "        loss_function='RMSE',\n",
    "        depth=8,\n",
    "        subsample=1,\n",
    "        l2_leaf_reg=2,\n",
    "        rsm = 0.8,\n",
    "        feature_names=features_names,\n",
    "        cat_features=cat_features_names,\n",
    "    ),\n",
    "    dict(\n",
    "        iterations=2000,\n",
    "        learning_rate=0.0125,\n",
    "        loss_function='RMSE',\n",
    "        depth=10,\n",
    "        subsample=1,\n",
    "        l2_leaf_reg=3,\n",
    "        rsm = 1,\n",
    "        feature_names=features_names,\n",
    "        cat_features=cat_features_names,\n",
    "    )\n",
    "]\n",
    "\n",
    "M = len(model_params)\n",
    "K = 3\n",
    "N = X.shape[0]\n",
    "\n",
    "skf = KFold(n_splits=K, shuffle=True)\n",
    "\n",
    "models_ads_revenue = [[None] * K for _ in range(M)]\n",
    "\n",
    "P = np.zeros((N, M), dtype=float)\n",
    "\n",
    "for k, (tr_idx, val_idx) in enumerate(skf.split(X, y)):\n",
    "    X_tr, X_va = X.iloc[tr_idx], X.iloc[val_idx]\n",
    "    y_tr, y_va = y.iloc[tr_idx], y.iloc[val_idx]\n",
    "\n",
    "    for m in range(M):\n",
    "        params = dict(model_params[m])\n",
    "\n",
    "        feature_cols = params['feature_names']\n",
    "        cat_features = params['cat_features']\n",
    "\n",
    "        del params['feature_names']\n",
    "        del params['cat_features']\n",
    "\n",
    "        train_pool = cb.Pool(X_tr, y_tr, cat_features=cat_features, feature_names=feature_cols)\n",
    "        valid_pool = cb.Pool(X_va, y_va, cat_features=cat_features, feature_names=feature_cols)\n",
    "\n",
    "        model = cb.CatBoostRegressor(**params, eval_metric=\"RMSE\")\n",
    "\n",
    "        model.fit(train_pool, eval_set=valid_pool, use_best_model=True, early_stopping_rounds=200, plot=True, verbose=False)\n",
    "\n",
    "        P[val_idx, m] = model.predict(X_va)\n",
    "\n",
    "        models_ads_revenue[m][k] = model"
   ],
   "outputs": [
    {
     "data": {
      "text/plain": [
       "MetricVisualizer(layout=Layout(align_self='stretch', height='500px'))"
      ],
      "application/vnd.jupyter.widget-view+json": {
       "version_major": 2,
       "version_minor": 0,
       "model_id": "ae0a58f290f048319653ed6c30fab5f7"
      }
     },
     "metadata": {},
     "output_type": "display_data"
    },
    {
     "data": {
      "text/plain": [
       "MetricVisualizer(layout=Layout(align_self='stretch', height='500px'))"
      ],
      "application/vnd.jupyter.widget-view+json": {
       "version_major": 2,
       "version_minor": 0,
       "model_id": "9dc78772835e467b9bfd6d20e41147f3"
      }
     },
     "metadata": {},
     "output_type": "display_data"
    },
    {
     "data": {
      "text/plain": [
       "MetricVisualizer(layout=Layout(align_self='stretch', height='500px'))"
      ],
      "application/vnd.jupyter.widget-view+json": {
       "version_major": 2,
       "version_minor": 0,
       "model_id": "3940557f9b4d4034a1a02ef2a0e265d7"
      }
     },
     "metadata": {},
     "output_type": "display_data"
    },
    {
     "data": {
      "text/plain": [
       "MetricVisualizer(layout=Layout(align_self='stretch', height='500px'))"
      ],
      "application/vnd.jupyter.widget-view+json": {
       "version_major": 2,
       "version_minor": 0,
       "model_id": "abddc6f259934e97ad787b701c9d9280"
      }
     },
     "metadata": {},
     "output_type": "display_data"
    },
    {
     "data": {
      "text/plain": [
       "MetricVisualizer(layout=Layout(align_self='stretch', height='500px'))"
      ],
      "application/vnd.jupyter.widget-view+json": {
       "version_major": 2,
       "version_minor": 0,
       "model_id": "9130b27e647c429d9ddee0f2ad0587e8"
      }
     },
     "metadata": {},
     "output_type": "display_data"
    },
    {
     "data": {
      "text/plain": [
       "MetricVisualizer(layout=Layout(align_self='stretch', height='500px'))"
      ],
      "application/vnd.jupyter.widget-view+json": {
       "version_major": 2,
       "version_minor": 0,
       "model_id": "09737cdf9f55466aa70960b4b3e97da9"
      }
     },
     "metadata": {},
     "output_type": "display_data"
    },
    {
     "data": {
      "text/plain": [
       "MetricVisualizer(layout=Layout(align_self='stretch', height='500px'))"
      ],
      "application/vnd.jupyter.widget-view+json": {
       "version_major": 2,
       "version_minor": 0,
       "model_id": "e49344c2eb3a49eba50a3f2173cb7d69"
      }
     },
     "metadata": {},
     "output_type": "display_data"
    },
    {
     "data": {
      "text/plain": [
       "MetricVisualizer(layout=Layout(align_self='stretch', height='500px'))"
      ],
      "application/vnd.jupyter.widget-view+json": {
       "version_major": 2,
       "version_minor": 0,
       "model_id": "58cb06041cf34115b1e8c36b74d22157"
      }
     },
     "metadata": {},
     "output_type": "display_data"
    }
   ],
   "execution_count": 104
  },
  {
   "metadata": {
    "ExecuteTime": {
     "end_time": "2025-08-14T13:49:37.724053Z",
     "start_time": "2025-08-14T13:49:37.722056Z"
    }
   },
   "cell_type": "code",
   "source": "resid = P - y.to_numpy()[:, None]",
   "id": "84ecb2eaa7a15380",
   "outputs": [],
   "execution_count": 105
  },
  {
   "metadata": {
    "ExecuteTime": {
     "end_time": "2025-08-14T13:49:37.773382Z",
     "start_time": "2025-08-14T13:49:37.767781Z"
    }
   },
   "cell_type": "code",
   "source": [
    "corr = np.corrcoef(resid, rowvar=False)\n",
    "corr"
   ],
   "id": "64d7bc505eeea1be",
   "outputs": [
    {
     "data": {
      "text/plain": [
       "array([[1.        , 0.99684483, 0.99232744],\n",
       "       [0.99684483, 1.        , 0.99717505],\n",
       "       [0.99232744, 0.99717505, 1.        ]])"
      ]
     },
     "execution_count": 106,
     "metadata": {},
     "output_type": "execute_result"
    }
   ],
   "execution_count": 106
  },
  {
   "metadata": {
    "ExecuteTime": {
     "end_time": "2025-08-14T13:49:37.961648Z",
     "start_time": "2025-08-14T13:49:37.870465Z"
    }
   },
   "cell_type": "code",
   "source": "w_ads_revenue = fit_blend_weights(P, y.to_numpy(), lam=1e-4)\n",
   "id": "c7d8bc3463ae0826",
   "outputs": [],
   "execution_count": 107
  },
  {
   "metadata": {
    "ExecuteTime": {
     "end_time": "2025-08-14T13:49:38.020331Z",
     "start_time": "2025-08-14T13:49:38.018217Z"
    }
   },
   "cell_type": "code",
   "source": "w_ads_revenue",
   "id": "2c3f95fe1c572f08",
   "outputs": [
    {
     "data": {
      "text/plain": [
       "array([2.10285404e-17, 4.18693874e-01, 5.81306126e-01])"
      ]
     },
     "execution_count": 108,
     "metadata": {},
     "output_type": "execute_result"
    }
   ],
   "execution_count": 108
  },
  {
   "metadata": {
    "ExecuteTime": {
     "end_time": "2025-08-14T13:49:38.070722Z",
     "start_time": "2025-08-14T13:49:38.068537Z"
    }
   },
   "cell_type": "code",
   "source": [
    "def predict_ads_revenue(X, w, b=0):\n",
    "    sum = np.zeros(X.shape[0])\n",
    "\n",
    "    for idx, family in enumerate(models_ads_revenue):\n",
    "        predict = np.mean([ model.predict(X[model.feature_names_]) for model in family ], axis=0)\n",
    "\n",
    "        sum += w[idx] * predict\n",
    "\n",
    "    return sum + b\n"
   ],
   "id": "c1c7fd6a3a853ea8",
   "outputs": [],
   "execution_count": 109
  },
  {
   "metadata": {
    "ExecuteTime": {
     "end_time": "2025-08-14T13:49:38.272784Z",
     "start_time": "2025-08-14T13:49:38.113733Z"
    }
   },
   "cell_type": "code",
   "source": [
    "from sklearn.linear_model import RidgeCV\n",
    "\n",
    "alphas = np.logspace(-6, 2, 30)\n",
    "ridge = RidgeCV(alphas=alphas, fit_intercept=True)\n",
    "ridge.fit(P, y)\n",
    "w_ridge = ridge.coef_     # shape (M,)\n",
    "b_ridge = ridge.intercept_"
   ],
   "id": "a21bfaf2d2e334c9",
   "outputs": [],
   "execution_count": 110
  },
  {
   "metadata": {
    "ExecuteTime": {
     "end_time": "2025-08-14T13:49:39.605839Z",
     "start_time": "2025-08-14T13:49:38.279861Z"
    }
   },
   "cell_type": "code",
   "source": [
    "from sklearn.metrics import mean_squared_error\n",
    "\n",
    "rmse1 = mean_squared_error(predict_ads_revenue(X, w_ads_revenue), y)\n",
    "print(rmse1)\n",
    "\n",
    "rmse2 = mean_squared_error(predict_ads_revenue(X, w_ridge, b_ridge), y)\n",
    "print(rmse2)\n",
    "\n",
    "# pred1 = predict(X.iloc[[0]], w)\n",
    "# print(pred1)\n",
    "#\n",
    "# pred2 = predict(X.iloc[[0]], w_ridge, b_ridge)\n",
    "# print(pred2)"
   ],
   "id": "3eef9906166da275",
   "outputs": [
    {
     "name": "stdout",
     "output_type": "stream",
     "text": [
      "0.05691283010702683\n",
      "0.05600088419162987\n"
     ]
    }
   ],
   "execution_count": 111
  },
  {
   "metadata": {},
   "cell_type": "markdown",
   "source": "### Training `revenue_next_month` model",
   "id": "bf8c57c51c920941"
  },
  {
   "cell_type": "code",
   "id": "26c5add72848f3c6",
   "metadata": {
    "ExecuteTime": {
     "end_time": "2025-08-14T13:49:52.162428Z",
     "start_time": "2025-08-14T13:49:39.670512Z"
    }
   },
   "source": [
    "# trainig `revenue_next_month`\n",
    "\n",
    "from sklearn.model_selection import train_test_split\n",
    "\n",
    "X = df.drop(columns=[\n",
    "    \"id\", \"current_month\", \"is_active_next_month\", \"ads_revenue_next_month\", \"revenue_next_month\", \"log_ads_revenue_next_month\", \"log_revenue_next_month\"\n",
    "])\n",
    "y = df[\"log_revenue_next_month\"]\n",
    "\n",
    "\n",
    "X_train, X_val, y_train, y_val = train_test_split(\n",
    "    X, y, test_size=0.2, shuffle=True\n",
    ")\n",
    "\n",
    "train_pool = cb.Pool(X_train, y_train, cat_features=cat_features_names, feature_names=X.columns.tolist())\n",
    "val_pool   = cb.Pool(X_val,   y_val,   cat_features=cat_features_names, feature_names=X.columns.tolist())\n",
    "\n",
    "model_revenue_next_month = cb.CatBoostRegressor(\n",
    "    iterations=2000,\n",
    "    learning_rate=0.01,\n",
    "    loss_function='RMSE',\n",
    "#     subsample=0.9,\n",
    "    l2_leaf_reg=3,\n",
    ")\n",
    "\n",
    "model_revenue_next_month.fit(\n",
    "    train_pool,\n",
    "    eval_set=val_pool,\n",
    "    early_stopping_rounds=100,\n",
    "    verbose=100,\n",
    "    plot=True\n",
    ")"
   ],
   "outputs": [
    {
     "data": {
      "text/plain": [
       "MetricVisualizer(layout=Layout(align_self='stretch', height='500px'))"
      ],
      "application/vnd.jupyter.widget-view+json": {
       "version_major": 2,
       "version_minor": 0,
       "model_id": "4bd06ff7dca74e059d9c2bb6a5d77a35"
      }
     },
     "metadata": {},
     "output_type": "display_data"
    },
    {
     "name": "stdout",
     "output_type": "stream",
     "text": [
      "0:\tlearn: 0.6127287\ttest: 0.6039063\tbest: 0.6039063 (0)\ttotal: 9.02ms\tremaining: 18s\n",
      "100:\tlearn: 0.4578296\ttest: 0.4442003\tbest: 0.4442003 (100)\ttotal: 896ms\tremaining: 16.8s\n",
      "200:\tlearn: 0.4271172\ttest: 0.4133894\tbest: 0.4133894 (200)\ttotal: 1.85s\tremaining: 16.6s\n",
      "300:\tlearn: 0.4193582\ttest: 0.4067884\tbest: 0.4067884 (300)\ttotal: 2.74s\tremaining: 15.4s\n",
      "400:\tlearn: 0.4162872\ttest: 0.4051388\tbest: 0.4051388 (400)\ttotal: 3.58s\tremaining: 14.3s\n",
      "500:\tlearn: 0.4144943\ttest: 0.4046355\tbest: 0.4046334 (498)\ttotal: 4.42s\tremaining: 13.2s\n",
      "600:\tlearn: 0.4130560\ttest: 0.4043012\tbest: 0.4042955 (587)\ttotal: 5.21s\tremaining: 12.1s\n",
      "700:\tlearn: 0.4116900\ttest: 0.4041602\tbest: 0.4041602 (700)\ttotal: 6s\tremaining: 11.1s\n",
      "800:\tlearn: 0.4103379\ttest: 0.4040325\tbest: 0.4040325 (800)\ttotal: 6.82s\tremaining: 10.2s\n",
      "900:\tlearn: 0.4090093\ttest: 0.4038235\tbest: 0.4038112 (890)\ttotal: 7.65s\tremaining: 9.33s\n",
      "1000:\tlearn: 0.4078168\ttest: 0.4037617\tbest: 0.4037529 (996)\ttotal: 8.49s\tremaining: 8.47s\n",
      "1100:\tlearn: 0.4066369\ttest: 0.4037372\tbest: 0.4037233 (1070)\ttotal: 9.29s\tremaining: 7.58s\n",
      "1200:\tlearn: 0.4054248\ttest: 0.4037186\tbest: 0.4036951 (1125)\ttotal: 10.1s\tremaining: 6.72s\n",
      "1300:\tlearn: 0.4043958\ttest: 0.4037037\tbest: 0.4036840 (1227)\ttotal: 10.9s\tremaining: 5.85s\n",
      "1400:\tlearn: 0.4033871\ttest: 0.4036766\tbest: 0.4036386 (1361)\ttotal: 11.7s\tremaining: 5.01s\n",
      "Stopped by overfitting detector  (100 iterations wait)\n",
      "\n",
      "bestTest = 0.403638577\n",
      "bestIteration = 1361\n",
      "\n",
      "Shrink model to first 1362 iterations.\n"
     ]
    },
    {
     "data": {
      "text/plain": [
       "<catboost.core.CatBoostRegressor at 0x7f6513f55e50>"
      ]
     },
     "execution_count": 112,
     "metadata": {},
     "output_type": "execute_result"
    }
   ],
   "execution_count": 112
  },
  {
   "metadata": {
    "ExecuteTime": {
     "end_time": "2025-08-14T13:49:52.244939Z",
     "start_time": "2025-08-14T13:49:52.242024Z"
    }
   },
   "cell_type": "code",
   "source": [
    "imp = list(zip(model_revenue_next_month.feature_names_, model_revenue_next_month.feature_importances_.tolist()))\n",
    "\n",
    "imp.sort(key=lambda x: x[1], reverse=True)\n",
    "\n",
    "imp"
   ],
   "id": "6fe21541cd7233dd",
   "outputs": [
    {
     "data": {
      "text/plain": [
       "[('log_revenue_current_month', 22.40109499971068),\n",
       " ('revenue_current_month', 21.943563348127597),\n",
       " ('currency_1', 13.896211622857246),\n",
       " ('currency_2', 11.228591108578916),\n",
       " ('current_passed_level', 5.672406194018433),\n",
       " ('offers', 3.8422657323904574),\n",
       " ('ads_revenue_current_month', 2.4354568653120294),\n",
       " ('log_ads_revenue_current_month', 2.300683622160358),\n",
       " ('logins_current_month', 1.7316808101731769),\n",
       " ('hard_quests_rate', 1.5314447123558836),\n",
       " ('win_rate', 1.497422572924007),\n",
       " ('ads_shown_current_month', 1.4244712671348336),\n",
       " ('country', 1.3023357160450462),\n",
       " ('months_after_reg', 1.1242471454278256),\n",
       " ('current_avg_ping', 1.021598019216955),\n",
       " ('currency_4', 0.9470002716399792),\n",
       " ('quests', 0.8755798946618566),\n",
       " ('currency_3', 0.8566884058997387),\n",
       " ('currency_6', 0.8088461388467234),\n",
       " ('currency_7', 0.7166870949832157),\n",
       " ('wins_pvp', 0.6454945929741989),\n",
       " ('hard_quests', 0.642264062588056),\n",
       " ('games_pvp', 0.5136816621536945),\n",
       " ('currency_5', 0.38887525875004453),\n",
       " ('platform', 0.20067025075953868),\n",
       " ('traffic_type', 0.050738630309488025)]"
      ]
     },
     "execution_count": 113,
     "metadata": {},
     "output_type": "execute_result"
    }
   ],
   "execution_count": 113
  },
  {
   "metadata": {},
   "cell_type": "markdown",
   "source": "### Training `is_active_next_month` models",
   "id": "84eeeb0a519a25fd"
  },
  {
   "metadata": {
    "ExecuteTime": {
     "end_time": "2025-08-14T13:51:34.242504Z",
     "start_time": "2025-08-14T13:49:52.319585Z"
    }
   },
   "cell_type": "code",
   "source": [
    "# trainig `is_active_next_month`\n",
    "\n",
    "from sklearn.model_selection import train_test_split\n",
    "\n",
    "X = df.drop(columns=[\n",
    "    \"id\", \"current_month\", \"is_active_next_month\", \"ads_revenue_next_month\", \"revenue_next_month\", \"log_ads_revenue_next_month\", \"log_revenue_next_month\"\n",
    "])\n",
    "y = df[\"is_active_next_month\"]\n",
    "\n",
    "params = dict(\n",
    "    iterations=2000,\n",
    "    early_stopping_rounds=200,\n",
    "    learning_rate=0.0125,\n",
    "    loss_function='Logloss',\n",
    "#     subsample=0.9,\n",
    "    l2_leaf_reg=3,\n",
    "    eval_metric=\"F1\",\n",
    "    auto_class_weights=\"Balanced\"\n",
    ")\n",
    "\n",
    "pool = cb.Pool(X, y, cat_features=cat_features_names, feature_names=X.columns.tolist())\n",
    "\n",
    "stats, models_is_active_next_month = cb.cv(\n",
    "    pool=pool,\n",
    "    params=params,\n",
    "    fold_count=5,\n",
    "    shuffle=True,\n",
    "    early_stopping_rounds=200,\n",
    "    plot=True,\n",
    "    verbose=False,\n",
    "    return_models=True\n",
    ")"
   ],
   "id": "a5ff013cf9bb21a4",
   "outputs": [
    {
     "data": {
      "text/plain": [
       "MetricVisualizer(layout=Layout(align_self='stretch', height='500px'))"
      ],
      "application/vnd.jupyter.widget-view+json": {
       "version_major": 2,
       "version_minor": 0,
       "model_id": "6f8ddb2b16c443a4aa7b8d930bf2ce18"
      }
     },
     "metadata": {},
     "output_type": "display_data"
    },
    {
     "name": "stdout",
     "output_type": "stream",
     "text": [
      "Training on fold [0/5]\n",
      "\n",
      "bestTest = 0.7925105486\n",
      "bestIteration = 1098\n",
      "\n",
      "Training on fold [1/5]\n",
      "\n",
      "bestTest = 0.7916633517\n",
      "bestIteration = 620\n",
      "\n",
      "Training on fold [2/5]\n",
      "\n",
      "bestTest = 0.7908162755\n",
      "bestIteration = 1\n",
      "\n",
      "Training on fold [3/5]\n",
      "\n",
      "bestTest = 0.7934739444\n",
      "bestIteration = 36\n",
      "\n",
      "Training on fold [4/5]\n",
      "\n",
      "bestTest = 0.7970577183\n",
      "bestIteration = 1938\n",
      "\n"
     ]
    }
   ],
   "execution_count": 114
  },
  {
   "metadata": {
    "ExecuteTime": {
     "end_time": "2025-08-14T13:51:34.333224Z",
     "start_time": "2025-08-14T13:51:34.331855Z"
    }
   },
   "cell_type": "code",
   "source": [
    "# imp = list(zip(model_is_active_next_month.feature_names_, model_is_active_next_month.feature_importances_.tolist()))\n",
    "#\n",
    "# imp.sort(key=lambda x: x[1], reverse=True)\n",
    "#\n",
    "# imp"
   ],
   "id": "9d3c6a41a5f9884b",
   "outputs": [],
   "execution_count": 115
  },
  {
   "metadata": {},
   "cell_type": "markdown",
   "source": "# Predict",
   "id": "df8c20f3c2326c57"
  },
  {
   "metadata": {
    "ExecuteTime": {
     "end_time": "2025-08-14T13:51:34.399434Z",
     "start_time": "2025-08-14T13:51:34.376296Z"
    }
   },
   "cell_type": "code",
   "source": "prediction = pd.read_csv('predict.csv')",
   "id": "a42d9e890118be0f",
   "outputs": [],
   "execution_count": 116
  },
  {
   "metadata": {
    "ExecuteTime": {
     "end_time": "2025-08-14T13:51:34.428160Z",
     "start_time": "2025-08-14T13:51:34.420154Z"
    }
   },
   "cell_type": "code",
   "source": "prediction",
   "id": "ed3899f78f90fcf9",
   "outputs": [
    {
     "data": {
      "text/plain": [
       "       Unnamed: 0      id  logins_current_month  country traffic_type  \\\n",
       "0              11       6                    29      133      organic   \n",
       "1              17      10                    30      164         paid   \n",
       "2              19      11                     7       93      organic   \n",
       "3              27      18                     9      112      organic   \n",
       "4              36      23                    13       67         paid   \n",
       "...           ...     ...                   ...      ...          ...   \n",
       "27245      224080  133642                     1      101         paid   \n",
       "27246      224084  133644                     1      161         paid   \n",
       "27247      224098  133651                     1        8         paid   \n",
       "27248      224114  133662                     2      164         paid   \n",
       "27249      224115  133663                    16       67         paid   \n",
       "\n",
       "      platform  ads_shown_current_month  ads_revenue_current_month  \\\n",
       "0      Android                       66                   0.040797   \n",
       "1          iOS                      781                  26.512756   \n",
       "2      Android                        3                   0.021389   \n",
       "3          iOS                       67                   2.316753   \n",
       "4      Android                       19                   0.145450   \n",
       "...        ...                      ...                        ...   \n",
       "27245  Android                        0                   0.000000   \n",
       "27246  Android                        0                   0.000000   \n",
       "27247  Android                        0                   0.000000   \n",
       "27248  Android                        2                   0.002376   \n",
       "27249      iOS                       33                   0.116825   \n",
       "\n",
       "       revenue_current_month  games_pvp  ...  ads_revenue_next_month  \\\n",
       "0                   0.000000        221  ...                     NaN   \n",
       "1                 121.358247        401  ...                     NaN   \n",
       "2                   0.000000         20  ...                     NaN   \n",
       "3                   5.058957         97  ...                     NaN   \n",
       "4                   0.000000        114  ...                     NaN   \n",
       "...                      ...        ...  ...                     ...   \n",
       "27245               0.000000          1  ...                     NaN   \n",
       "27246               0.000000          1  ...                     NaN   \n",
       "27247               0.000000          0  ...                     NaN   \n",
       "27248               0.000000          1  ...                     NaN   \n",
       "27249               0.000000        118  ...                     NaN   \n",
       "\n",
       "       revenue_next_month  log_ads_revenue_next_month  log_revenue_next_month  \\\n",
       "0                     NaN                         0.0                     0.0   \n",
       "1                     NaN                         0.0                     0.0   \n",
       "2                     NaN                         0.0                     0.0   \n",
       "3                     NaN                         0.0                     0.0   \n",
       "4                     NaN                         0.0                     0.0   \n",
       "...                   ...                         ...                     ...   \n",
       "27245                 NaN                         0.0                     0.0   \n",
       "27246                 NaN                         0.0                     0.0   \n",
       "27247                 NaN                         0.0                     0.0   \n",
       "27248                 NaN                         0.0                     0.0   \n",
       "27249                 NaN                         0.0                     0.0   \n",
       "\n",
       "       is_active_next_month  months_after_reg  win_rate  hard_quests_rate  \\\n",
       "0                     False                 3  0.490991          0.084158   \n",
       "1                     False                 1  0.582090          0.058824   \n",
       "2                     False                 0  0.523810          0.021739   \n",
       "3                     False                 0  0.642857          0.056818   \n",
       "4                     False                 1  0.504348          0.057592   \n",
       "...                     ...               ...       ...               ...   \n",
       "27245                 False                 5  0.500000          0.000000   \n",
       "27246                 False                 2  0.500000          0.000000   \n",
       "27247                 False                 1  0.000000          0.000000   \n",
       "27248                 False                 4  0.000000          0.000000   \n",
       "27249                 False                 0  0.521008          0.046948   \n",
       "\n",
       "       log_revenue_current_month  log_ads_revenue_current_month  \n",
       "0                       0.000000                       0.039987  \n",
       "1                       4.806953                       3.314650  \n",
       "2                       0.000000                       0.021164  \n",
       "3                       1.801538                       1.198986  \n",
       "4                       0.000000                       0.135797  \n",
       "...                          ...                            ...  \n",
       "27245                   0.000000                       0.000000  \n",
       "27246                   0.000000                       0.000000  \n",
       "27247                   0.000000                       0.000000  \n",
       "27248                   0.000000                       0.002374  \n",
       "27249                   0.000000                       0.110489  \n",
       "\n",
       "[27250 rows x 34 columns]"
      ],
      "text/html": [
       "<div>\n",
       "<style scoped>\n",
       "    .dataframe tbody tr th:only-of-type {\n",
       "        vertical-align: middle;\n",
       "    }\n",
       "\n",
       "    .dataframe tbody tr th {\n",
       "        vertical-align: top;\n",
       "    }\n",
       "\n",
       "    .dataframe thead th {\n",
       "        text-align: right;\n",
       "    }\n",
       "</style>\n",
       "<table border=\"1\" class=\"dataframe\">\n",
       "  <thead>\n",
       "    <tr style=\"text-align: right;\">\n",
       "      <th></th>\n",
       "      <th>Unnamed: 0</th>\n",
       "      <th>id</th>\n",
       "      <th>logins_current_month</th>\n",
       "      <th>country</th>\n",
       "      <th>traffic_type</th>\n",
       "      <th>platform</th>\n",
       "      <th>ads_shown_current_month</th>\n",
       "      <th>ads_revenue_current_month</th>\n",
       "      <th>revenue_current_month</th>\n",
       "      <th>games_pvp</th>\n",
       "      <th>...</th>\n",
       "      <th>ads_revenue_next_month</th>\n",
       "      <th>revenue_next_month</th>\n",
       "      <th>log_ads_revenue_next_month</th>\n",
       "      <th>log_revenue_next_month</th>\n",
       "      <th>is_active_next_month</th>\n",
       "      <th>months_after_reg</th>\n",
       "      <th>win_rate</th>\n",
       "      <th>hard_quests_rate</th>\n",
       "      <th>log_revenue_current_month</th>\n",
       "      <th>log_ads_revenue_current_month</th>\n",
       "    </tr>\n",
       "  </thead>\n",
       "  <tbody>\n",
       "    <tr>\n",
       "      <th>0</th>\n",
       "      <td>11</td>\n",
       "      <td>6</td>\n",
       "      <td>29</td>\n",
       "      <td>133</td>\n",
       "      <td>organic</td>\n",
       "      <td>Android</td>\n",
       "      <td>66</td>\n",
       "      <td>0.040797</td>\n",
       "      <td>0.000000</td>\n",
       "      <td>221</td>\n",
       "      <td>...</td>\n",
       "      <td>NaN</td>\n",
       "      <td>NaN</td>\n",
       "      <td>0.0</td>\n",
       "      <td>0.0</td>\n",
       "      <td>False</td>\n",
       "      <td>3</td>\n",
       "      <td>0.490991</td>\n",
       "      <td>0.084158</td>\n",
       "      <td>0.000000</td>\n",
       "      <td>0.039987</td>\n",
       "    </tr>\n",
       "    <tr>\n",
       "      <th>1</th>\n",
       "      <td>17</td>\n",
       "      <td>10</td>\n",
       "      <td>30</td>\n",
       "      <td>164</td>\n",
       "      <td>paid</td>\n",
       "      <td>iOS</td>\n",
       "      <td>781</td>\n",
       "      <td>26.512756</td>\n",
       "      <td>121.358247</td>\n",
       "      <td>401</td>\n",
       "      <td>...</td>\n",
       "      <td>NaN</td>\n",
       "      <td>NaN</td>\n",
       "      <td>0.0</td>\n",
       "      <td>0.0</td>\n",
       "      <td>False</td>\n",
       "      <td>1</td>\n",
       "      <td>0.582090</td>\n",
       "      <td>0.058824</td>\n",
       "      <td>4.806953</td>\n",
       "      <td>3.314650</td>\n",
       "    </tr>\n",
       "    <tr>\n",
       "      <th>2</th>\n",
       "      <td>19</td>\n",
       "      <td>11</td>\n",
       "      <td>7</td>\n",
       "      <td>93</td>\n",
       "      <td>organic</td>\n",
       "      <td>Android</td>\n",
       "      <td>3</td>\n",
       "      <td>0.021389</td>\n",
       "      <td>0.000000</td>\n",
       "      <td>20</td>\n",
       "      <td>...</td>\n",
       "      <td>NaN</td>\n",
       "      <td>NaN</td>\n",
       "      <td>0.0</td>\n",
       "      <td>0.0</td>\n",
       "      <td>False</td>\n",
       "      <td>0</td>\n",
       "      <td>0.523810</td>\n",
       "      <td>0.021739</td>\n",
       "      <td>0.000000</td>\n",
       "      <td>0.021164</td>\n",
       "    </tr>\n",
       "    <tr>\n",
       "      <th>3</th>\n",
       "      <td>27</td>\n",
       "      <td>18</td>\n",
       "      <td>9</td>\n",
       "      <td>112</td>\n",
       "      <td>organic</td>\n",
       "      <td>iOS</td>\n",
       "      <td>67</td>\n",
       "      <td>2.316753</td>\n",
       "      <td>5.058957</td>\n",
       "      <td>97</td>\n",
       "      <td>...</td>\n",
       "      <td>NaN</td>\n",
       "      <td>NaN</td>\n",
       "      <td>0.0</td>\n",
       "      <td>0.0</td>\n",
       "      <td>False</td>\n",
       "      <td>0</td>\n",
       "      <td>0.642857</td>\n",
       "      <td>0.056818</td>\n",
       "      <td>1.801538</td>\n",
       "      <td>1.198986</td>\n",
       "    </tr>\n",
       "    <tr>\n",
       "      <th>4</th>\n",
       "      <td>36</td>\n",
       "      <td>23</td>\n",
       "      <td>13</td>\n",
       "      <td>67</td>\n",
       "      <td>paid</td>\n",
       "      <td>Android</td>\n",
       "      <td>19</td>\n",
       "      <td>0.145450</td>\n",
       "      <td>0.000000</td>\n",
       "      <td>114</td>\n",
       "      <td>...</td>\n",
       "      <td>NaN</td>\n",
       "      <td>NaN</td>\n",
       "      <td>0.0</td>\n",
       "      <td>0.0</td>\n",
       "      <td>False</td>\n",
       "      <td>1</td>\n",
       "      <td>0.504348</td>\n",
       "      <td>0.057592</td>\n",
       "      <td>0.000000</td>\n",
       "      <td>0.135797</td>\n",
       "    </tr>\n",
       "    <tr>\n",
       "      <th>...</th>\n",
       "      <td>...</td>\n",
       "      <td>...</td>\n",
       "      <td>...</td>\n",
       "      <td>...</td>\n",
       "      <td>...</td>\n",
       "      <td>...</td>\n",
       "      <td>...</td>\n",
       "      <td>...</td>\n",
       "      <td>...</td>\n",
       "      <td>...</td>\n",
       "      <td>...</td>\n",
       "      <td>...</td>\n",
       "      <td>...</td>\n",
       "      <td>...</td>\n",
       "      <td>...</td>\n",
       "      <td>...</td>\n",
       "      <td>...</td>\n",
       "      <td>...</td>\n",
       "      <td>...</td>\n",
       "      <td>...</td>\n",
       "      <td>...</td>\n",
       "    </tr>\n",
       "    <tr>\n",
       "      <th>27245</th>\n",
       "      <td>224080</td>\n",
       "      <td>133642</td>\n",
       "      <td>1</td>\n",
       "      <td>101</td>\n",
       "      <td>paid</td>\n",
       "      <td>Android</td>\n",
       "      <td>0</td>\n",
       "      <td>0.000000</td>\n",
       "      <td>0.000000</td>\n",
       "      <td>1</td>\n",
       "      <td>...</td>\n",
       "      <td>NaN</td>\n",
       "      <td>NaN</td>\n",
       "      <td>0.0</td>\n",
       "      <td>0.0</td>\n",
       "      <td>False</td>\n",
       "      <td>5</td>\n",
       "      <td>0.500000</td>\n",
       "      <td>0.000000</td>\n",
       "      <td>0.000000</td>\n",
       "      <td>0.000000</td>\n",
       "    </tr>\n",
       "    <tr>\n",
       "      <th>27246</th>\n",
       "      <td>224084</td>\n",
       "      <td>133644</td>\n",
       "      <td>1</td>\n",
       "      <td>161</td>\n",
       "      <td>paid</td>\n",
       "      <td>Android</td>\n",
       "      <td>0</td>\n",
       "      <td>0.000000</td>\n",
       "      <td>0.000000</td>\n",
       "      <td>1</td>\n",
       "      <td>...</td>\n",
       "      <td>NaN</td>\n",
       "      <td>NaN</td>\n",
       "      <td>0.0</td>\n",
       "      <td>0.0</td>\n",
       "      <td>False</td>\n",
       "      <td>2</td>\n",
       "      <td>0.500000</td>\n",
       "      <td>0.000000</td>\n",
       "      <td>0.000000</td>\n",
       "      <td>0.000000</td>\n",
       "    </tr>\n",
       "    <tr>\n",
       "      <th>27247</th>\n",
       "      <td>224098</td>\n",
       "      <td>133651</td>\n",
       "      <td>1</td>\n",
       "      <td>8</td>\n",
       "      <td>paid</td>\n",
       "      <td>Android</td>\n",
       "      <td>0</td>\n",
       "      <td>0.000000</td>\n",
       "      <td>0.000000</td>\n",
       "      <td>0</td>\n",
       "      <td>...</td>\n",
       "      <td>NaN</td>\n",
       "      <td>NaN</td>\n",
       "      <td>0.0</td>\n",
       "      <td>0.0</td>\n",
       "      <td>False</td>\n",
       "      <td>1</td>\n",
       "      <td>0.000000</td>\n",
       "      <td>0.000000</td>\n",
       "      <td>0.000000</td>\n",
       "      <td>0.000000</td>\n",
       "    </tr>\n",
       "    <tr>\n",
       "      <th>27248</th>\n",
       "      <td>224114</td>\n",
       "      <td>133662</td>\n",
       "      <td>2</td>\n",
       "      <td>164</td>\n",
       "      <td>paid</td>\n",
       "      <td>Android</td>\n",
       "      <td>2</td>\n",
       "      <td>0.002376</td>\n",
       "      <td>0.000000</td>\n",
       "      <td>1</td>\n",
       "      <td>...</td>\n",
       "      <td>NaN</td>\n",
       "      <td>NaN</td>\n",
       "      <td>0.0</td>\n",
       "      <td>0.0</td>\n",
       "      <td>False</td>\n",
       "      <td>4</td>\n",
       "      <td>0.000000</td>\n",
       "      <td>0.000000</td>\n",
       "      <td>0.000000</td>\n",
       "      <td>0.002374</td>\n",
       "    </tr>\n",
       "    <tr>\n",
       "      <th>27249</th>\n",
       "      <td>224115</td>\n",
       "      <td>133663</td>\n",
       "      <td>16</td>\n",
       "      <td>67</td>\n",
       "      <td>paid</td>\n",
       "      <td>iOS</td>\n",
       "      <td>33</td>\n",
       "      <td>0.116825</td>\n",
       "      <td>0.000000</td>\n",
       "      <td>118</td>\n",
       "      <td>...</td>\n",
       "      <td>NaN</td>\n",
       "      <td>NaN</td>\n",
       "      <td>0.0</td>\n",
       "      <td>0.0</td>\n",
       "      <td>False</td>\n",
       "      <td>0</td>\n",
       "      <td>0.521008</td>\n",
       "      <td>0.046948</td>\n",
       "      <td>0.000000</td>\n",
       "      <td>0.110489</td>\n",
       "    </tr>\n",
       "  </tbody>\n",
       "</table>\n",
       "<p>27250 rows × 34 columns</p>\n",
       "</div>"
      ]
     },
     "execution_count": 117,
     "metadata": {},
     "output_type": "execute_result"
    }
   ],
   "execution_count": 117
  },
  {
   "metadata": {
    "ExecuteTime": {
     "end_time": "2025-08-14T13:51:34.726278Z",
     "start_time": "2025-08-14T13:51:34.520224Z"
    }
   },
   "cell_type": "code",
   "source": [
    "def predict_average(models, input):\n",
    "    predictions = np.array([model.predict(input[model.feature_names_], prediction_type=\"Probability\")[:, 1] for model in models])\n",
    "\n",
    "    return predictions.mean(axis=0)\n",
    "\n",
    "prediction['is_active'] = np.int8(predict_average(models_is_active_next_month, prediction) > 0.5)\n",
    "prediction['revenue_next_month'] = np.expm1(model_revenue_next_month.predict(prediction[model_revenue_next_month.feature_names_]))\n",
    "prediction['ads_revenue_next_month'] = np.expm1(predict_ads_revenue(prediction, w_ads_revenue))\n",
    "\n",
    "submission = prediction[ ['id', 'is_active', 'revenue_next_month', 'ads_revenue_next_month'] ].copy()\n",
    "\n",
    "submission"
   ],
   "id": "e139bfe694129f9f",
   "outputs": [
    {
     "data": {
      "text/plain": [
       "           id  is_active  revenue_next_month  ads_revenue_next_month\n",
       "0           6          1            0.019996                0.056172\n",
       "1          10          1           47.218777               17.407986\n",
       "2          11          0            0.003983                0.012787\n",
       "3          18          0            0.294593                0.173837\n",
       "4          23          0            0.006306                0.022704\n",
       "...       ...        ...                 ...                     ...\n",
       "27245  133642          0            0.008703                0.008448\n",
       "27246  133644          0           -0.001649                0.001269\n",
       "27247  133651          0           -0.000442                0.002043\n",
       "27248  133662          0            0.008422                0.011823\n",
       "27249  133663          1            0.023694                0.046483\n",
       "\n",
       "[27250 rows x 4 columns]"
      ],
      "text/html": [
       "<div>\n",
       "<style scoped>\n",
       "    .dataframe tbody tr th:only-of-type {\n",
       "        vertical-align: middle;\n",
       "    }\n",
       "\n",
       "    .dataframe tbody tr th {\n",
       "        vertical-align: top;\n",
       "    }\n",
       "\n",
       "    .dataframe thead th {\n",
       "        text-align: right;\n",
       "    }\n",
       "</style>\n",
       "<table border=\"1\" class=\"dataframe\">\n",
       "  <thead>\n",
       "    <tr style=\"text-align: right;\">\n",
       "      <th></th>\n",
       "      <th>id</th>\n",
       "      <th>is_active</th>\n",
       "      <th>revenue_next_month</th>\n",
       "      <th>ads_revenue_next_month</th>\n",
       "    </tr>\n",
       "  </thead>\n",
       "  <tbody>\n",
       "    <tr>\n",
       "      <th>0</th>\n",
       "      <td>6</td>\n",
       "      <td>1</td>\n",
       "      <td>0.019996</td>\n",
       "      <td>0.056172</td>\n",
       "    </tr>\n",
       "    <tr>\n",
       "      <th>1</th>\n",
       "      <td>10</td>\n",
       "      <td>1</td>\n",
       "      <td>47.218777</td>\n",
       "      <td>17.407986</td>\n",
       "    </tr>\n",
       "    <tr>\n",
       "      <th>2</th>\n",
       "      <td>11</td>\n",
       "      <td>0</td>\n",
       "      <td>0.003983</td>\n",
       "      <td>0.012787</td>\n",
       "    </tr>\n",
       "    <tr>\n",
       "      <th>3</th>\n",
       "      <td>18</td>\n",
       "      <td>0</td>\n",
       "      <td>0.294593</td>\n",
       "      <td>0.173837</td>\n",
       "    </tr>\n",
       "    <tr>\n",
       "      <th>4</th>\n",
       "      <td>23</td>\n",
       "      <td>0</td>\n",
       "      <td>0.006306</td>\n",
       "      <td>0.022704</td>\n",
       "    </tr>\n",
       "    <tr>\n",
       "      <th>...</th>\n",
       "      <td>...</td>\n",
       "      <td>...</td>\n",
       "      <td>...</td>\n",
       "      <td>...</td>\n",
       "    </tr>\n",
       "    <tr>\n",
       "      <th>27245</th>\n",
       "      <td>133642</td>\n",
       "      <td>0</td>\n",
       "      <td>0.008703</td>\n",
       "      <td>0.008448</td>\n",
       "    </tr>\n",
       "    <tr>\n",
       "      <th>27246</th>\n",
       "      <td>133644</td>\n",
       "      <td>0</td>\n",
       "      <td>-0.001649</td>\n",
       "      <td>0.001269</td>\n",
       "    </tr>\n",
       "    <tr>\n",
       "      <th>27247</th>\n",
       "      <td>133651</td>\n",
       "      <td>0</td>\n",
       "      <td>-0.000442</td>\n",
       "      <td>0.002043</td>\n",
       "    </tr>\n",
       "    <tr>\n",
       "      <th>27248</th>\n",
       "      <td>133662</td>\n",
       "      <td>0</td>\n",
       "      <td>0.008422</td>\n",
       "      <td>0.011823</td>\n",
       "    </tr>\n",
       "    <tr>\n",
       "      <th>27249</th>\n",
       "      <td>133663</td>\n",
       "      <td>1</td>\n",
       "      <td>0.023694</td>\n",
       "      <td>0.046483</td>\n",
       "    </tr>\n",
       "  </tbody>\n",
       "</table>\n",
       "<p>27250 rows × 4 columns</p>\n",
       "</div>"
      ]
     },
     "execution_count": 118,
     "metadata": {},
     "output_type": "execute_result"
    }
   ],
   "execution_count": 118
  },
  {
   "metadata": {
    "ExecuteTime": {
     "end_time": "2025-08-14T13:51:35.119478Z",
     "start_time": "2025-08-14T13:51:35.117048Z"
    }
   },
   "cell_type": "code",
   "source": [
    "submission[ 'next_month_revenue' ] = np.maximum(submission['revenue_next_month'], 0) + np.maximum(submission['ads_revenue_next_month'], 0)\n",
    "\n",
    "submission = submission[ ['id', 'is_active', 'next_month_revenue'] ]\n"
   ],
   "id": "58af842979e87aae",
   "outputs": [],
   "execution_count": 119
  },
  {
   "metadata": {
    "ExecuteTime": {
     "end_time": "2025-08-14T13:51:35.164704Z",
     "start_time": "2025-08-14T13:51:35.161439Z"
    }
   },
   "cell_type": "code",
   "source": "submission",
   "id": "e0093b2d834541e6",
   "outputs": [
    {
     "data": {
      "text/plain": [
       "           id  is_active  next_month_revenue\n",
       "0           6          1            0.076168\n",
       "1          10          1           64.626763\n",
       "2          11          0            0.016769\n",
       "3          18          0            0.468430\n",
       "4          23          0            0.029010\n",
       "...       ...        ...                 ...\n",
       "27245  133642          0            0.017151\n",
       "27246  133644          0            0.001269\n",
       "27247  133651          0            0.002043\n",
       "27248  133662          0            0.020245\n",
       "27249  133663          1            0.070178\n",
       "\n",
       "[27250 rows x 3 columns]"
      ],
      "text/html": [
       "<div>\n",
       "<style scoped>\n",
       "    .dataframe tbody tr th:only-of-type {\n",
       "        vertical-align: middle;\n",
       "    }\n",
       "\n",
       "    .dataframe tbody tr th {\n",
       "        vertical-align: top;\n",
       "    }\n",
       "\n",
       "    .dataframe thead th {\n",
       "        text-align: right;\n",
       "    }\n",
       "</style>\n",
       "<table border=\"1\" class=\"dataframe\">\n",
       "  <thead>\n",
       "    <tr style=\"text-align: right;\">\n",
       "      <th></th>\n",
       "      <th>id</th>\n",
       "      <th>is_active</th>\n",
       "      <th>next_month_revenue</th>\n",
       "    </tr>\n",
       "  </thead>\n",
       "  <tbody>\n",
       "    <tr>\n",
       "      <th>0</th>\n",
       "      <td>6</td>\n",
       "      <td>1</td>\n",
       "      <td>0.076168</td>\n",
       "    </tr>\n",
       "    <tr>\n",
       "      <th>1</th>\n",
       "      <td>10</td>\n",
       "      <td>1</td>\n",
       "      <td>64.626763</td>\n",
       "    </tr>\n",
       "    <tr>\n",
       "      <th>2</th>\n",
       "      <td>11</td>\n",
       "      <td>0</td>\n",
       "      <td>0.016769</td>\n",
       "    </tr>\n",
       "    <tr>\n",
       "      <th>3</th>\n",
       "      <td>18</td>\n",
       "      <td>0</td>\n",
       "      <td>0.468430</td>\n",
       "    </tr>\n",
       "    <tr>\n",
       "      <th>4</th>\n",
       "      <td>23</td>\n",
       "      <td>0</td>\n",
       "      <td>0.029010</td>\n",
       "    </tr>\n",
       "    <tr>\n",
       "      <th>...</th>\n",
       "      <td>...</td>\n",
       "      <td>...</td>\n",
       "      <td>...</td>\n",
       "    </tr>\n",
       "    <tr>\n",
       "      <th>27245</th>\n",
       "      <td>133642</td>\n",
       "      <td>0</td>\n",
       "      <td>0.017151</td>\n",
       "    </tr>\n",
       "    <tr>\n",
       "      <th>27246</th>\n",
       "      <td>133644</td>\n",
       "      <td>0</td>\n",
       "      <td>0.001269</td>\n",
       "    </tr>\n",
       "    <tr>\n",
       "      <th>27247</th>\n",
       "      <td>133651</td>\n",
       "      <td>0</td>\n",
       "      <td>0.002043</td>\n",
       "    </tr>\n",
       "    <tr>\n",
       "      <th>27248</th>\n",
       "      <td>133662</td>\n",
       "      <td>0</td>\n",
       "      <td>0.020245</td>\n",
       "    </tr>\n",
       "    <tr>\n",
       "      <th>27249</th>\n",
       "      <td>133663</td>\n",
       "      <td>1</td>\n",
       "      <td>0.070178</td>\n",
       "    </tr>\n",
       "  </tbody>\n",
       "</table>\n",
       "<p>27250 rows × 3 columns</p>\n",
       "</div>"
      ]
     },
     "execution_count": 120,
     "metadata": {},
     "output_type": "execute_result"
    }
   ],
   "execution_count": 120
  },
  {
   "metadata": {
    "ExecuteTime": {
     "end_time": "2025-08-14T13:51:35.386032Z",
     "start_time": "2025-08-14T13:51:35.256221Z"
    }
   },
   "cell_type": "code",
   "source": [
    "sub = pd.read_csv('history.csv')\n",
    "sub = sub.drop_duplicates(subset='id', keep='first')\n",
    "sub = sub[ ['id'] ]\n",
    "\n",
    "sub.sort_values('id', inplace=True)"
   ],
   "id": "bac7bac52f674136",
   "outputs": [],
   "execution_count": 121
  },
  {
   "metadata": {
    "ExecuteTime": {
     "end_time": "2025-08-14T13:51:35.445722Z",
     "start_time": "2025-08-14T13:51:35.443269Z"
    }
   },
   "cell_type": "code",
   "source": [
    "sub['is_active'] = 0\n",
    "sub['next_month_revenue'] = 0.0\n",
    "\n",
    "sub = sub.set_index('id', drop=False)"
   ],
   "id": "d158bdb6f7289dda",
   "outputs": [],
   "execution_count": 122
  },
  {
   "metadata": {
    "ExecuteTime": {
     "end_time": "2025-08-14T13:51:35.546796Z",
     "start_time": "2025-08-14T13:51:35.541037Z"
    }
   },
   "cell_type": "code",
   "source": "sub.update(submission.set_index(\"id\"))",
   "id": "dc73ec58ace3736b",
   "outputs": [],
   "execution_count": 123
  },
  {
   "metadata": {
    "ExecuteTime": {
     "end_time": "2025-08-14T13:51:35.642423Z",
     "start_time": "2025-08-14T13:51:35.639035Z"
    }
   },
   "cell_type": "code",
   "source": [
    "sub = sub[ ['id', 'next_month_revenue', 'is_active'] ]\n",
    "\n",
    "sub"
   ],
   "id": "eede1c47526cc3b3",
   "outputs": [
    {
     "data": {
      "text/plain": [
       "            id  next_month_revenue  is_active\n",
       "id                                           \n",
       "1            1                 0.0          0\n",
       "2            2                 0.0          0\n",
       "3            3                 0.0          0\n",
       "4            4                 0.0          0\n",
       "5            5                 0.0          0\n",
       "...        ...                 ...        ...\n",
       "133670  133670                 0.0          0\n",
       "133671  133671                 0.0          0\n",
       "133672  133672                 0.0          0\n",
       "133673  133673                 0.0          0\n",
       "133674  133674                 0.0          0\n",
       "\n",
       "[133674 rows x 3 columns]"
      ],
      "text/html": [
       "<div>\n",
       "<style scoped>\n",
       "    .dataframe tbody tr th:only-of-type {\n",
       "        vertical-align: middle;\n",
       "    }\n",
       "\n",
       "    .dataframe tbody tr th {\n",
       "        vertical-align: top;\n",
       "    }\n",
       "\n",
       "    .dataframe thead th {\n",
       "        text-align: right;\n",
       "    }\n",
       "</style>\n",
       "<table border=\"1\" class=\"dataframe\">\n",
       "  <thead>\n",
       "    <tr style=\"text-align: right;\">\n",
       "      <th></th>\n",
       "      <th>id</th>\n",
       "      <th>next_month_revenue</th>\n",
       "      <th>is_active</th>\n",
       "    </tr>\n",
       "    <tr>\n",
       "      <th>id</th>\n",
       "      <th></th>\n",
       "      <th></th>\n",
       "      <th></th>\n",
       "    </tr>\n",
       "  </thead>\n",
       "  <tbody>\n",
       "    <tr>\n",
       "      <th>1</th>\n",
       "      <td>1</td>\n",
       "      <td>0.0</td>\n",
       "      <td>0</td>\n",
       "    </tr>\n",
       "    <tr>\n",
       "      <th>2</th>\n",
       "      <td>2</td>\n",
       "      <td>0.0</td>\n",
       "      <td>0</td>\n",
       "    </tr>\n",
       "    <tr>\n",
       "      <th>3</th>\n",
       "      <td>3</td>\n",
       "      <td>0.0</td>\n",
       "      <td>0</td>\n",
       "    </tr>\n",
       "    <tr>\n",
       "      <th>4</th>\n",
       "      <td>4</td>\n",
       "      <td>0.0</td>\n",
       "      <td>0</td>\n",
       "    </tr>\n",
       "    <tr>\n",
       "      <th>5</th>\n",
       "      <td>5</td>\n",
       "      <td>0.0</td>\n",
       "      <td>0</td>\n",
       "    </tr>\n",
       "    <tr>\n",
       "      <th>...</th>\n",
       "      <td>...</td>\n",
       "      <td>...</td>\n",
       "      <td>...</td>\n",
       "    </tr>\n",
       "    <tr>\n",
       "      <th>133670</th>\n",
       "      <td>133670</td>\n",
       "      <td>0.0</td>\n",
       "      <td>0</td>\n",
       "    </tr>\n",
       "    <tr>\n",
       "      <th>133671</th>\n",
       "      <td>133671</td>\n",
       "      <td>0.0</td>\n",
       "      <td>0</td>\n",
       "    </tr>\n",
       "    <tr>\n",
       "      <th>133672</th>\n",
       "      <td>133672</td>\n",
       "      <td>0.0</td>\n",
       "      <td>0</td>\n",
       "    </tr>\n",
       "    <tr>\n",
       "      <th>133673</th>\n",
       "      <td>133673</td>\n",
       "      <td>0.0</td>\n",
       "      <td>0</td>\n",
       "    </tr>\n",
       "    <tr>\n",
       "      <th>133674</th>\n",
       "      <td>133674</td>\n",
       "      <td>0.0</td>\n",
       "      <td>0</td>\n",
       "    </tr>\n",
       "  </tbody>\n",
       "</table>\n",
       "<p>133674 rows × 3 columns</p>\n",
       "</div>"
      ]
     },
     "execution_count": 124,
     "metadata": {},
     "output_type": "execute_result"
    }
   ],
   "execution_count": 124
  },
  {
   "metadata": {
    "ExecuteTime": {
     "end_time": "2025-08-14T13:51:35.801103Z",
     "start_time": "2025-08-14T13:51:35.738084Z"
    }
   },
   "cell_type": "code",
   "source": "sub.to_csv('submission.csv', index=False)",
   "id": "bc36bf7fcf880c59",
   "outputs": [],
   "execution_count": 125
  }
 ],
 "metadata": {
  "kernelspec": {
   "display_name": "Python 3 (ipykernel)",
   "language": "python",
   "name": "python3"
  },
  "language_info": {
   "codemirror_mode": {
    "name": "ipython",
    "version": 3
   },
   "file_extension": ".py",
   "mimetype": "text/x-python",
   "name": "python",
   "nbconvert_exporter": "python",
   "pygments_lexer": "ipython3",
   "version": "3.12.3"
  }
 },
 "nbformat": 4,
 "nbformat_minor": 5
}
